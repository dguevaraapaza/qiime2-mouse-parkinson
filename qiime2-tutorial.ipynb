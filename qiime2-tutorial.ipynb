{
 "cells": [
  {
   "cell_type": "markdown",
   "metadata": {},
   "source": [
    "# 1. Metadata handling"
   ]
  },
  {
   "cell_type": "code",
   "execution_count": 4,
   "metadata": {},
   "outputs": [
    {
     "name": "stdout",
     "output_type": "stream",
     "text": [
      "2024-11-14 02:49:51 URL:https://doc-00-60-sheets.googleusercontent.com/pub/54bogvaave6cua4cdnls17ksc4/kfkmgnll7qd9i6vvdfmmmr3ph4/1731570590000/105250506097979753968/*/e@2PACX-1vQ3g65vwLGsdtnARKVjuJlJ9wVPOUocJvoluuaB2PO8zA2Q2AwG9q84UvdUtcKkFGVK_32gcFKyqxbE?gid=1509704122&single=true&output=tsv [4431] -> \"data/metadata.tsv\" [1]\n"
     ]
    }
   ],
   "source": [
    "# Get the metadata file and store it into data/\n",
    "!mkdir data/\n",
    "!wget -nv -O 'data/metadata.tsv' \\\n",
    "\thttps://data.qiime2.org/2024.10/tutorials/pd-mice/sample_metadata.tsv"
   ]
  },
  {
   "cell_type": "code",
   "execution_count": 6,
   "metadata": {},
   "outputs": [
    {
     "name": "stdout",
     "output_type": "stream",
     "text": [
      "\u001b[32mSaved Visualization to: data/metadata.qzv\u001b[0m\n",
      "\u001b[0m"
     ]
    }
   ],
   "source": [
    "# Summarize and explore the metadata.\n",
    "!qiime metadata tabulate \\\n",
    "  --m-input-file data/metadata.tsv \\\n",
    "  --o-visualization data/metadata.qzv"
   ]
  },
  {
   "cell_type": "code",
   "execution_count": 7,
   "metadata": {},
   "outputs": [
    {
     "name": "stdout",
     "output_type": "stream",
     "text": [
      "Press the 'q' key, Control-C, or Control-D to quit. This view may no longer be accessible or work correctly after quitting.Opening in existing browser session.\n",
      "\n",
      "Press the 'q' key, Control-C, or Control-D to quit. This view may no longer be accessible or work correctly after quitting."
     ]
    }
   ],
   "source": [
    "# Visualize the output\n",
    "!qiime tools view data/metadata.qzv"
   ]
  }
 ],
 "metadata": {
  "kernelspec": {
   "display_name": "qiime2-amplicon",
   "language": "python",
   "name": "python3"
  },
  "language_info": {
   "codemirror_mode": {
    "name": "ipython",
    "version": 3
   },
   "file_extension": ".py",
   "mimetype": "text/x-python",
   "name": "python",
   "nbconvert_exporter": "python",
   "pygments_lexer": "ipython3",
   "version": "3.10.14"
  }
 },
 "nbformat": 4,
 "nbformat_minor": 2
}
