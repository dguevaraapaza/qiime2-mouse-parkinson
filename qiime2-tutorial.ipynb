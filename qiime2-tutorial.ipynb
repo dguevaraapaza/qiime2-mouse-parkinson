{
 "cells": [
  {
   "cell_type": "markdown",
   "metadata": {},
   "source": [
    "# Mouse metagenomics for Parkinson Disease (Tutorial)"
   ]
  },
  {
   "cell_type": "markdown",
   "metadata": {},
   "source": [
    "# 1. Metadata handling"
   ]
  },
  {
   "cell_type": "code",
   "execution_count": null,
   "metadata": {},
   "outputs": [
    {
     "name": "stdout",
     "output_type": "stream",
     "text": [
      "2024-11-14 02:49:51 URL:https://doc-00-60-sheets.googleusercontent.com/pub/54bogvaave6cua4cdnls17ksc4/kfkmgnll7qd9i6vvdfmmmr3ph4/1731570590000/105250506097979753968/*/e@2PACX-1vQ3g65vwLGsdtnARKVjuJlJ9wVPOUocJvoluuaB2PO8zA2Q2AwG9q84UvdUtcKkFGVK_32gcFKyqxbE?gid=1509704122&single=true&output=tsv [4431] -> \"data/metadata.tsv\" [1]\n"
     ]
    }
   ],
   "source": [
    "# Get the metadata file and store it into data/\n",
    "!wget -nv -O 'data/metadata.tsv' \\\n",
    "\thttps://data.qiime2.org/2024.10/tutorials/pd-mice/sample_metadata.tsv"
   ]
  },
  {
   "cell_type": "code",
   "execution_count": 7,
   "metadata": {},
   "outputs": [
    {
     "name": "stdout",
     "output_type": "stream",
     "text": [
      "\u001b[32mSaved Visualization to: metadata.qzv\u001b[0m\n",
      "\u001b[0m"
     ]
    }
   ],
   "source": [
    "# Summarize and explore the metadata.\n",
    "!qiime metadata tabulate \\\n",
    "  --m-input-file metadata.tsv \\\n",
    "  --o-visualization metadata.qzv"
   ]
  },
  {
   "cell_type": "code",
   "execution_count": null,
   "metadata": {},
   "outputs": [
    {
     "name": "stdout",
     "output_type": "stream",
     "text": [
      "Press the 'q' key, Control-C, or Control-D to quit. This view may no longer be accessible or work correctly after quitting.Opening in existing browser session.\n",
      "\n",
      "Press the 'q' key, Control-C, or Control-D to quit. This view may no longer be accessible or work correctly after quitting."
     ]
    }
   ],
   "source": [
    "# Visualize the output\n",
    "!qiime tools view metadata.qzv"
   ]
  },
  {
   "cell_type": "markdown",
   "metadata": {},
   "source": [
    "# 2. Importing data into QIIME 2¶\n"
   ]
  },
  {
   "cell_type": "code",
   "execution_count": null,
   "metadata": {},
   "outputs": [
    {
     "name": "stdout",
     "output_type": "stream",
     "text": [
      "2024-11-14 03:25:17 URL:https://s3-us-west-2.amazonaws.com/qiime2-data/2024.10/tutorials/pd-mice/manifest [4640/4640] -> \"data/manifest.tsv\" [1]\n"
     ]
    }
   ],
   "source": [
    "# Get the manifest file and store it into data/\n",
    "!wget -nv -O 'manifest.tsv' \\\n",
    "\thttps://data.qiime2.org/2024.10/tutorials/pd-mice/manifest"
   ]
  },
  {
   "cell_type": "code",
   "execution_count": 11,
   "metadata": {},
   "outputs": [
    {
     "name": "stdout",
     "output_type": "stream",
     "text": [
      "2024-11-14 03:29:45 URL:https://s3-us-west-2.amazonaws.com/qiime2-data/2024.10/tutorials/pd-mice/demultiplexed_seqs.zip [21508775/21508775] -> \"demultiplexed_seqs.zip\" [1]\n"
     ]
    }
   ],
   "source": [
    "# Download sequences\n",
    "!wget -nv -O \"demultiplexed_seqs.zip\" \\\n",
    "  \"https://data.qiime2.org/2024.10/tutorials/pd-mice/demultiplexed_seqs.zip\""
   ]
  },
  {
   "cell_type": "code",
   "execution_count": 12,
   "metadata": {},
   "outputs": [
    {
     "name": "stdout",
     "output_type": "stream",
     "text": [
      "Archive:  demultiplexed_seqs.zip\n",
      "   creating: demultiplexed_seqs/\n",
      "  inflating: demultiplexed_seqs/10483.recip.539.ASO.PD4.D7_4_L001_R1_001.fastq.gz  \n",
      "  inflating: demultiplexed_seqs/10483.recip.539.ASO.PD4.D14_5_L001_R1_001.fastq.gz  \n",
      "  inflating: demultiplexed_seqs/10483.recip.413.WT.HC2.D7_12_L001_R1_001.fastq.gz  \n",
      "  inflating: demultiplexed_seqs/10483.recip.220.WT.OB1.D7_30_L001_R1_001.fastq.gz  \n",
      "  inflating: demultiplexed_seqs/10483.recip.458.ASO.HC3.D49_2_L001_R1_001.fastq.gz  \n",
      "  inflating: demultiplexed_seqs/10483.recip.538.WT.PD4.D21_4_L001_R1_001.fastq.gz  \n",
      "  inflating: demultiplexed_seqs/10483.recip.459.WT.HC3.D14_2_L001_R1_001.fastq.gz  \n",
      "  inflating: demultiplexed_seqs/10483.recip.461.ASO.HC3.D7_20_L001_R1_001.fastq.gz  \n",
      "  inflating: demultiplexed_seqs/10483.recip.465.ASO.PD3.D14_16_L001_R1_001.fastq.gz  \n",
      "  inflating: demultiplexed_seqs/10483.recip.461.ASO.HC3.D21_11_L001_R1_001.fastq.gz  \n",
      "  inflating: demultiplexed_seqs/10483.recip.540.ASO.HC4.D7_7_L001_R1_001.fastq.gz  \n",
      "  inflating: demultiplexed_seqs/10483.recip.465.ASO.PD3.D7_0_L001_R1_001.fastq.gz  \n",
      "  inflating: demultiplexed_seqs/10483.recip.400.ASO.HC2.D14_32_L001_R1_001.fastq.gz  \n",
      "  inflating: demultiplexed_seqs/10483.recip.389.WT.HC2.D21_1_L001_R1_001.fastq.gz  \n",
      "  inflating: demultiplexed_seqs/10483.recip.536.ASO.PD4.D49_1_L001_R1_001.fastq.gz  \n",
      "  inflating: demultiplexed_seqs/10483.recip.411.ASO.HC2.D49_6_L001_R1_001.fastq.gz  \n",
      "  inflating: demultiplexed_seqs/10483.recip.463.WT.PD3.D7_3_L001_R1_001.fastq.gz  \n",
      "  inflating: demultiplexed_seqs/10483.recip.412.ASO.HC2.D7_24_L001_R1_001.fastq.gz  \n",
      "  inflating: demultiplexed_seqs/10483.recip.463.WT.PD3.D14_25_L001_R1_001.fastq.gz  \n",
      "  inflating: demultiplexed_seqs/10483.recip.391.ASO.PD2.D7_15_L001_R1_001.fastq.gz  \n",
      "  inflating: demultiplexed_seqs/10483.recip.462.WT.PD3.D49_8_L001_R1_001.fastq.gz  \n",
      "  inflating: demultiplexed_seqs/10483.recip.456.ASO.HC3.D49_28_L001_R1_001.fastq.gz  \n",
      "  inflating: demultiplexed_seqs/10483.recip.460.WT.HC3.D7_14_L001_R1_001.fastq.gz  \n",
      "  inflating: demultiplexed_seqs/10483.recip.537.WT.PD4.D21_45_L001_R1_001.fastq.gz  \n",
      "  inflating: demultiplexed_seqs/10483.recip.467.WT.HC3.D49.a_0_L001_R1_001.fastq.gz  \n",
      "  inflating: demultiplexed_seqs/10483.recip.458.ASO.HC3.D21_10_L001_R1_001.fastq.gz  \n",
      "  inflating: demultiplexed_seqs/10483.recip.460.WT.HC3.D21_0_L001_R1_001.fastq.gz  \n",
      "  inflating: demultiplexed_seqs/10483.recip.412.ASO.HC2.D14_13_L001_R1_001.fastq.gz  \n",
      "  inflating: demultiplexed_seqs/10483.recip.391.ASO.PD2.D21_1_L001_R1_001.fastq.gz  \n",
      "  inflating: demultiplexed_seqs/10483.recip.460.WT.HC3.D14_11_L001_R1_001.fastq.gz  \n",
      "  inflating: demultiplexed_seqs/10483.recip.403.ASO.PD2.D21_31_L001_R1_001.fastq.gz  \n",
      "  inflating: demultiplexed_seqs/10483.recip.401.ASO.HC2.D7_22_L001_R1_001.fastq.gz  \n",
      "  inflating: demultiplexed_seqs/10483.recip.462.WT.PD3.D21_4_L001_R1_001.fastq.gz  \n",
      "  inflating: demultiplexed_seqs/10483.recip.462.WT.PD3.D14_18_L001_R1_001.fastq.gz  \n",
      "  inflating: demultiplexed_seqs/10483.recip.467.WT.HC3.D49.b_26_L001_R1_001.fastq.gz  \n",
      "  inflating: demultiplexed_seqs/10483.recip.290.ASO.OB2.D1_27_L001_R1_001.fastq.gz  \n",
      "  inflating: demultiplexed_seqs/10483.recip.466.ASO.PD3.D7_23_L001_R1_001.fastq.gz  \n",
      "  inflating: demultiplexed_seqs/10483.recip.462.WT.PD3.D7_3_L001_R1_001.fastq.gz  \n",
      "  inflating: demultiplexed_seqs/10483.recip.391.ASO.PD2.D14_5_L001_R1_001.fastq.gz  \n",
      "  inflating: demultiplexed_seqs/recip.411.ASO.HC2.D21_0_L001_R1_001.fastq.gz  \n",
      "  inflating: demultiplexed_seqs/10483.recip.460.WT.HC3.D49_19_L001_R1_001.fastq.gz  \n",
      "  inflating: demultiplexed_seqs/10483.recip.461.ASO.HC3.D49_29_L001_R1_001.fastq.gz  \n",
      "  inflating: demultiplexed_seqs/10483.recip.459.WT.HC3.D49_3_L001_R1_001.fastq.gz  \n",
      "  inflating: demultiplexed_seqs/10483.recip.411.ASO.HC2.D14_9_L001_R1_001.fastq.gz  \n",
      "  inflating: demultiplexed_seqs/10483.recip.464.WT.PD3.D14_17_L001_R1_001.fastq.gz  \n",
      "  inflating: demultiplexed_seqs/10483.recip.463.WT.PD3.D21_19_L001_R1_001.fastq.gz  \n",
      "  inflating: demultiplexed_seqs/10483.recip.459.WT.HC3.D21_21_L001_R1_001.fastq.gz  \n",
      "  inflating: demultiplexed_seqs/10483.recip.540.ASO.HC4.D14_2_L001_R1_001.fastq.gz  \n"
     ]
    }
   ],
   "source": [
    "# unzip and delete\n",
    "!unzip demultiplexed_seqs.zip\n",
    "!rm demultiplexed_seqs.zip"
   ]
  },
  {
   "cell_type": "code",
   "execution_count": 8,
   "metadata": {},
   "outputs": [
    {
     "name": "stdout",
     "output_type": "stream",
     "text": [
      "\u001b[32mImported ./manifest.tsv as SingleEndFastqManifestPhred33V2 to ./demux_seqs.qza\u001b[0m\n",
      "\u001b[0m"
     ]
    }
   ],
   "source": [
    "# import the data\n",
    "!qiime tools import \\\n",
    "  --type \"SampleData[SequencesWithQuality]\" \\\n",
    "  --input-format SingleEndFastqManifestPhred33V2 \\\n",
    "  --input-path ./manifest.tsv \\\n",
    "  --output-path ./demux_seqs.qza"
   ]
  },
  {
   "cell_type": "code",
   "execution_count": 9,
   "metadata": {},
   "outputs": [
    {
     "name": "stdout",
     "output_type": "stream",
     "text": [
      "mkdir: cannot create directory ‘output’: File exists\n",
      "\u001b[32mSaved Visualization to: ./demux_seqs.qzv\u001b[0m\n",
      "\u001b[0m"
     ]
    }
   ],
   "source": [
    "# Output visualization\n",
    "!qiime demux summarize \\\n",
    "  --i-data ./demux_seqs.qza \\\n",
    "  --o-visualization ./demux_seqs.qzv"
   ]
  },
  {
   "cell_type": "code",
   "execution_count": null,
   "metadata": {},
   "outputs": [
    {
     "name": "stdout",
     "output_type": "stream",
     "text": [
      "Press the 'q' key, Control-C, or Control-D to quit. This view may no longer be accessible or work correctly after quitting.Opening in existing browser session.\n",
      "\n",
      "Press the 'q' key, Control-C, or Control-D to quit. This view may no longer be accessible or work correctly after quitting."
     ]
    }
   ],
   "source": [
    "# Visualize results\n",
    "!qiime tools view ./demux_seqs.qzv"
   ]
  },
  {
   "cell_type": "markdown",
   "metadata": {},
   "source": [
    "# 3. Sequence quality control (denoising) and feature table"
   ]
  },
  {
   "cell_type": "code",
   "execution_count": 10,
   "metadata": {},
   "outputs": [
    {
     "name": "stdout",
     "output_type": "stream",
     "text": [
      "\u001b[32mSaved FeatureTable[Frequency] to: ./dada2_table.qza\u001b[0m\n",
      "\u001b[32mSaved FeatureData[Sequence] to: ./dada2_rep_set.qza\u001b[0m\n",
      "\u001b[32mSaved SampleData[DADA2Stats] to: ./dada2_stats.qza\u001b[0m\n",
      "\u001b[0m"
     ]
    }
   ],
   "source": [
    "# Denoise the data\n",
    "!qiime dada2 denoise-single \\\n",
    "  --i-demultiplexed-seqs ./demux_seqs.qza \\\n",
    "  --p-trunc-len 150 \\\n",
    "  --o-table ./dada2_table.qza \\\n",
    "  --o-representative-sequences ./dada2_rep_set.qza \\\n",
    "  --o-denoising-stats ./dada2_stats.qza"
   ]
  },
  {
   "cell_type": "code",
   "execution_count": 11,
   "metadata": {},
   "outputs": [
    {
     "name": "stdout",
     "output_type": "stream",
     "text": [
      "\u001b[32mSaved Visualization to: ./dada2_stats.qzv\u001b[0m\n",
      "\u001b[0m"
     ]
    }
   ],
   "source": [
    "# denoise the data statistically\n",
    "!qiime metadata tabulate \\\n",
    "  --m-input-file ./dada2_stats.qza  \\\n",
    "  --o-visualization ./dada2_stats.qzv"
   ]
  },
  {
   "cell_type": "code",
   "execution_count": null,
   "metadata": {},
   "outputs": [
    {
     "name": "stdout",
     "output_type": "stream",
     "text": [
      "Press the 'q' key, Control-C, or Control-D to quit. This view may no longer be accessible or work correctly after quitting.Opening in existing browser session.\n",
      "\n",
      "Press the 'q' key, Control-C, or Control-D to quit. This view may no longer be accessible or work correctly after quitting."
     ]
    }
   ],
   "source": [
    "# Visualize table\n",
    "!qiime tools view ./dada2_stats.qzv"
   ]
  },
  {
   "cell_type": "code",
   "execution_count": 12,
   "metadata": {},
   "outputs": [
    {
     "name": "stdout",
     "output_type": "stream",
     "text": [
      "\u001b[32mSaved Visualization to: ./dada2_table.qzv\u001b[0m\n",
      "\u001b[0m"
     ]
    }
   ],
   "source": [
    "# Feature table summary\n",
    "!qiime feature-table summarize \\\n",
    "  --i-table ./dada2_table.qza \\\n",
    "  --m-sample-metadata-file ./metadata.tsv \\\n",
    "  --o-visualization ./dada2_table.qzv"
   ]
  },
  {
   "cell_type": "markdown",
   "metadata": {},
   "source": [
    "# 4. Generating a phylogenetic tree for diversity analysis"
   ]
  },
  {
   "cell_type": "code",
   "execution_count": 15,
   "metadata": {},
   "outputs": [
    {
     "name": "stdout",
     "output_type": "stream",
     "text": [
      "2024-11-18 08:24:37 URL:https://s3-us-west-2.amazonaws.com/qiime2-data/classifiers/sepp-ref-dbs/sepp-refs-gg-13-8.qza [50161069/50161069] -> \"./sepp-refs-gg-13-8.qza\" [1]\n"
     ]
    }
   ],
   "source": [
    "# Fragment insertion plugin suggest that it can outperform traditional alignment based methods based on short Illumina reads by alignment against a reference tree built out of larger sequences\n",
    "!wget -nv -O \"./sepp-refs-gg-13-8.qza\" \\\n",
    "  \"https://data.qiime2.org/classifiers/sepp-ref-dbs/sepp-refs-gg-13-8.qza\""
   ]
  },
  {
   "cell_type": "code",
   "execution_count": 16,
   "metadata": {},
   "outputs": [
    {
     "name": "stdout",
     "output_type": "stream",
     "text": [
      "\u001b[32mSaved Phylogeny[Rooted] to: ./tree.qza\u001b[0m\n",
      "\u001b[32mSaved Placements to: ./tree_placements.qza\u001b[0m\n",
      "\u001b[0m"
     ]
    }
   ],
   "source": [
    "# create a fragment insertion tree by fragment insertion\n",
    "!qiime fragment-insertion sepp \\\n",
    "  --i-representative-sequences ./dada2_rep_set.qza \\\n",
    "  --i-reference-database ./sepp-refs-gg-13-8.qza \\\n",
    "  --o-tree ./tree.qza \\\n",
    "  --o-placements ./tree_placements.qza \\\n",
    "  --p-threads 2  # update to a higher number if you can\n",
    "\n",
    "# explore outcome in iTOL"
   ]
  },
  {
   "cell_type": "markdown",
   "metadata": {},
   "source": [
    "# 5. Alpha Rarefaction and Selecting a Rarefaction Depth"
   ]
  },
  {
   "cell_type": "code",
   "execution_count": 3,
   "metadata": {},
   "outputs": [
    {
     "name": "stdout",
     "output_type": "stream",
     "text": [
      "mkdir: cannot create directory ‘diversity’: File exists\n",
      "\u001b[32mSaved Visualization to: ./diversity/alpha_rarefaction_curves.qzv\u001b[0m\n",
      "\u001b[0m"
     ]
    }
   ],
   "source": [
    "# calculate rarefaction\n",
    "!mkdir diversity\n",
    "!qiime diversity alpha-rarefaction \\\n",
    "  --i-table ./denoised/dada2_table.qza \\\n",
    "  --m-metadata-file ./data/metadata.tsv \\\n",
    "  --o-visualization ./diversity/alpha_rarefaction_curves.qzv \\\n",
    "  --p-min-depth 10 \\\n",
    "  --p-max-depth 4250"
   ]
  },
  {
   "cell_type": "code",
   "execution_count": null,
   "metadata": {},
   "outputs": [
    {
     "name": "stdout",
     "output_type": "stream",
     "text": [
      "Press the 'q' key, Control-C, or Control-D to quit. This view may no longer be accessible or work correctly after quitting.Opening in existing browser session.\n",
      "\n",
      "Press the 'q' key, Control-C, or Control-D to quit. This view may no longer be accessible or work correctly after quitting."
     ]
    }
   ],
   "source": [
    "# Visualize table\n",
    "!qiime tools view ./alpha_rarefaction_curves.qzv"
   ]
  },
  {
   "cell_type": "markdown",
   "metadata": {},
   "source": [
    "# 6. Diversity analysis\n"
   ]
  },
  {
   "cell_type": "code",
   "execution_count": 20,
   "metadata": {},
   "outputs": [
    {
     "name": "stdout",
     "output_type": "stream",
     "text": [
      "\u001b[31m\u001b[1mPlugin error from diversity:\n",
      "\n",
      "  module 'skbio.diversity.alpha' has no attribute 'sobs'\n",
      "\n",
      "Debug info has been saved to /tmp/qiime2-q2cli-err-ya0n6ne1.log\u001b[0m\n",
      "\u001b[0m"
     ]
    }
   ],
   "source": [
    "# Generate core metric phylogenetics using the boundaries provided by rarefaction\n",
    "!qiime diversity core-metrics-phylogenetic \\\n",
    "\t--i-phylogeny tree.qza \\\n",
    "  --i-table dada2_table.qza \\\n",
    "\t--p-sampling-depth 2000 \\\n",
    "  --m-metadata-file metadata.tsv \\\n",
    "  --output-dir core-metrics-results"
   ]
  },
  {
   "cell_type": "code",
   "execution_count": 3,
   "metadata": {},
   "outputs": [
    {
     "name": "stdout",
     "output_type": "stream",
     "text": [
      "Traceback (most recent call last):\n",
      "  File \"/home/davo/miniconda3/envs/qiime2-amplicon/lib/python3.10/site-packages/q2cli/commands.py\", line 530, in __call__\n",
      "    results = self._execute_action(\n",
      "  File \"/home/davo/miniconda3/envs/qiime2-amplicon/lib/python3.10/site-packages/q2cli/commands.py\", line 608, in _execute_action\n",
      "    results = action(**arguments)\n",
      "  File \"<decorator-gen-201>\", line 2, in core_metrics_phylogenetic\n",
      "  File \"/home/davo/miniconda3/envs/qiime2-amplicon/lib/python3.10/site-packages/qiime2/sdk/action.py\", line 299, in bound_callable\n",
      "    outputs = self._callable_executor_(\n",
      "  File \"/home/davo/miniconda3/envs/qiime2-amplicon/lib/python3.10/site-packages/qiime2/sdk/action.py\", line 651, in _callable_executor_\n",
      "    outputs = self._callable(ctx, **view_args)\n",
      "  File \"/home/davo/miniconda3/envs/qiime2-amplicon/lib/python3.10/site-packages/q2_diversity/_core_metrics.py\", line 60, in core_metrics_phylogenetic\n",
      "    cr = core_metrics(table=table, sampling_depth=sampling_depth,\n",
      "  File \"<decorator-gen-936>\", line 2, in core_metrics\n",
      "  File \"/home/davo/miniconda3/envs/qiime2-amplicon/lib/python3.10/site-packages/qiime2/sdk/context.py\", line 125, in deferred_action\n",
      "    return action_obj._bind(\n",
      "  File \"<decorator-gen-938>\", line 2, in core_metrics\n",
      "  File \"/home/davo/miniconda3/envs/qiime2-amplicon/lib/python3.10/site-packages/qiime2/sdk/action.py\", line 299, in bound_callable\n",
      "    outputs = self._callable_executor_(\n",
      "  File \"/home/davo/miniconda3/envs/qiime2-amplicon/lib/python3.10/site-packages/qiime2/sdk/action.py\", line 651, in _callable_executor_\n",
      "    outputs = self._callable(ctx, **view_args)\n",
      "  File \"/home/davo/miniconda3/envs/qiime2-amplicon/lib/python3.10/site-packages/q2_diversity/_core_metrics.py\", line 27, in core_metrics\n",
      "    results += metric(table=rarefied_table)\n",
      "  File \"<decorator-gen-941>\", line 2, in pielou_evenness\n",
      "  File \"/home/davo/miniconda3/envs/qiime2-amplicon/lib/python3.10/site-packages/qiime2/sdk/context.py\", line 125, in deferred_action\n",
      "    return action_obj._bind(\n",
      "  File \"<decorator-gen-948>\", line 2, in pielou_evenness\n",
      "  File \"/home/davo/miniconda3/envs/qiime2-amplicon/lib/python3.10/site-packages/qiime2/sdk/action.py\", line 299, in bound_callable\n",
      "    outputs = self._callable_executor_(\n",
      "  File \"/home/davo/miniconda3/envs/qiime2-amplicon/lib/python3.10/site-packages/qiime2/sdk/action.py\", line 570, in _callable_executor_\n",
      "    output_views = self._callable(**view_args)\n",
      "  File \"<decorator-gen-141>\", line 2, in pielou_evenness\n",
      "  File \"/home/davo/miniconda3/envs/qiime2-amplicon/lib/python3.10/site-packages/q2_diversity_lib/_util.py\", line 75, in _validate_tables\n",
      "    return wrapped_function(*args, **kwargs)\n",
      "  File \"/home/davo/miniconda3/envs/qiime2-amplicon/lib/python3.10/site-packages/q2_diversity_lib/alpha.py\", line 115, in pielou_evenness\n",
      "    results.extend([_p_evenness(c)for c in v])\n",
      "  File \"/home/davo/miniconda3/envs/qiime2-amplicon/lib/python3.10/site-packages/q2_diversity_lib/alpha.py\", line 115, in <listcomp>\n",
      "    results.extend([_p_evenness(c)for c in v])\n",
      "  File \"/home/davo/miniconda3/envs/qiime2-amplicon/lib/python3.10/site-packages/q2_diversity_lib/skbio/_methods.py\", line 72, in _p_evenness\n",
      "    skbio.diversity.alpha.sobs(counts=counts))\n",
      "AttributeError: module 'skbio.diversity.alpha' has no attribute 'sobs'\n",
      "\n"
     ]
    }
   ],
   "source": [
    "!cat /tmp/qiime2-q2cli-err-bajpmiyk.log"
   ]
  },
  {
   "cell_type": "markdown",
   "metadata": {},
   "source": [
    "# 7. Taxonomic classification\n"
   ]
  },
  {
   "cell_type": "code",
   "execution_count": null,
   "metadata": {},
   "outputs": [
    {
     "name": "stdout",
     "output_type": "stream",
     "text": [
      "2024-11-14 05:49:57 URL:https://s3-us-west-2.amazonaws.com/qiime2-data/classifiers/sklearn-1.4.2/greengenes/gg-13-8-99-515-806-nb-classifier.qza [2334033/2334033] -> \"./taxonomic_profile/gg-13-8-99-515-806-nb-classifier.qza\" [1]\n"
     ]
    }
   ],
   "source": [
    "# Download a pre-trained naive Bayes machine-learning classifier\n",
    "!mkdir taxonomic_profile\n",
    "!wget -nv -O \"./taxonomic_profile/gg-13-8-99-515-806-nb-classifier.qza\" \\\n",
    "  \"https://data.qiime2.org/classifiers/sklearn-1.4.2/greengenes/gg-13-8-99-515-806-nb-classifier.qza\"\n",
    "\n",
    "# Naive Bayes classifiers perform best when they’re trained for the specific hypervariable region amplified."
   ]
  },
  {
   "cell_type": "code",
   "execution_count": 34,
   "metadata": {},
   "outputs": [
    {
     "name": "stdout",
     "output_type": "stream",
     "text": [
      "\u001b[32mSaved FeatureData[Taxonomy] to: ./taxonomic_profile/taxonomy.qza\u001b[0m\n",
      "\u001b[0m"
     ]
    }
   ],
   "source": [
    "#  train a classifier specific for your dataset\n",
    "!qiime feature-classifier classify-sklearn \\\n",
    "  --i-reads ./denoised/dada2_rep_set.qza \\\n",
    "  --i-classifier ./taxonomic_profile/gg-13-8-99-515-806-nb-classifier.qza \\\n",
    "  --o-classification ./taxonomic_profile/taxonomy.qza"
   ]
  },
  {
   "cell_type": "code",
   "execution_count": 35,
   "metadata": {},
   "outputs": [
    {
     "name": "stdout",
     "output_type": "stream",
     "text": [
      "\u001b[32mSaved Visualization to: ./taxonomic_profile/taxonomy.qzv\u001b[0m\n",
      "\u001b[0m"
     ]
    }
   ],
   "source": [
    "# Review the taxonomy associated with the sequences\n",
    "!qiime metadata tabulate \\\n",
    "  --m-input-file ./taxonomic_profile/taxonomy.qza \\\n",
    "  --o-visualization ./taxonomic_profile/taxonomy.qzv"
   ]
  },
  {
   "cell_type": "code",
   "execution_count": 36,
   "metadata": {},
   "outputs": [
    {
     "name": "stdout",
     "output_type": "stream",
     "text": [
      "Press the 'q' key, Control-C, or Control-D to quit. This view may no longer be accessible or work correctly after quitting.Opening in existing browser session.\n",
      "\n",
      "Press the 'q' key, Control-C, or Control-D to quit. This view may no longer be accessible or work correctly after quitting."
     ]
    }
   ],
   "source": [
    "# Visualize table\n",
    "!qiime tools view ./taxonomic_profile/taxonomy.qzv"
   ]
  },
  {
   "cell_type": "code",
   "execution_count": 37,
   "metadata": {},
   "outputs": [
    {
     "name": "stdout",
     "output_type": "stream",
     "text": [
      "\u001b[32mSaved Visualization to: ./taxonomic_profile/dada2_rep_set.qzv\u001b[0m\n",
      "\u001b[0m"
     ]
    }
   ],
   "source": [
    "# Visualize feature table\n",
    "!qiime feature-table tabulate-seqs \\\n",
    "  --i-data ./denoised/dada2_rep_set.qza \\\n",
    "  --o-visualization ./taxonomic_profile/dada2_rep_set.qzv"
   ]
  },
  {
   "cell_type": "code",
   "execution_count": 39,
   "metadata": {},
   "outputs": [
    {
     "name": "stdout",
     "output_type": "stream",
     "text": [
      "Press the 'q' key, Control-C, or Control-D to quit. This view may no longer be accessible or work correctly after quitting.Opening in existing browser session.\n",
      "\n",
      "Press the 'q' key, Control-C, or Control-D to quit. This view may no longer be accessible or work correctly after quitting."
     ]
    }
   ],
   "source": [
    "# Visualize table\n",
    "!qiime tools view ./taxonomic_profile/dada2_rep_set.qzv"
   ]
  },
  {
   "cell_type": "markdown",
   "metadata": {},
   "source": [
    "## Taxonomy Barchart"
   ]
  },
  {
   "cell_type": "code",
   "execution_count": 42,
   "metadata": {},
   "outputs": [
    {
     "name": "stdout",
     "output_type": "stream",
     "text": [
      "\u001b[32mSaved FeatureTable[Frequency] to: ./taxonomic_profile/table_2k.qza\u001b[0m\n",
      "\u001b[0m"
     ]
    }
   ],
   "source": [
    "# filter out samples with fewer sequences than our rarefaction depth\n",
    "!qiime feature-table filter-samples \\\n",
    "  --i-table ./denoised/dada2_table.qza \\\n",
    "  --p-min-frequency 2000 \\\n",
    "  --o-filtered-table ./taxonomic_profile/table_2k.qza"
   ]
  },
  {
   "cell_type": "code",
   "execution_count": 43,
   "metadata": {},
   "outputs": [
    {
     "name": "stdout",
     "output_type": "stream",
     "text": [
      "\u001b[32mSaved Visualization to: ./taxonomic_profile/taxa_barplot.qzv\u001b[0m\n",
      "\u001b[0m"
     ]
    }
   ],
   "source": [
    "# Build interactive barplot\n",
    "!qiime taxa barplot \\\n",
    "  --i-table ./taxonomic_profile/table_2k.qza \\\n",
    "  --i-taxonomy ./taxonomic_profile/taxonomy.qza \\\n",
    "  --m-metadata-file ./data/metadata.tsv \\\n",
    "  --o-visualization ./taxonomic_profile/taxa_barplot.qzv"
   ]
  },
  {
   "cell_type": "code",
   "execution_count": 44,
   "metadata": {},
   "outputs": [
    {
     "name": "stdout",
     "output_type": "stream",
     "text": [
      "Press the 'q' key, Control-C, or Control-D to quit. This view may no longer be accessible or work correctly after quitting.Opening in existing browser session.\n",
      "\n",
      "Press the 'q' key, Control-C, or Control-D to quit. This view may no longer be accessible or work correctly after quitting."
     ]
    }
   ],
   "source": [
    "# Visualize barplot\n",
    "!qiime tools view ./taxonomic_profile/taxa_barplot.qzv"
   ]
  },
  {
   "cell_type": "code",
   "execution_count": null,
   "metadata": {},
   "outputs": [],
   "source": []
  }
 ],
 "metadata": {
  "kernelspec": {
   "display_name": "qiime2-amplicon",
   "language": "python",
   "name": "python3"
  },
  "language_info": {
   "codemirror_mode": {
    "name": "ipython",
    "version": 3
   },
   "file_extension": ".py",
   "mimetype": "text/x-python",
   "name": "python",
   "nbconvert_exporter": "python",
   "pygments_lexer": "ipython3",
   "version": "3.10.14"
  }
 },
 "nbformat": 4,
 "nbformat_minor": 2
}
